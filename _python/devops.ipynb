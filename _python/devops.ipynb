{
 "cells": [
  {
   "cell_type": "code",
   "execution_count": null,
   "metadata": {},
   "outputs": [],
   "source": [
    "file_path='bookofd.txt'\n",
    "file=open(file_path, \"r\")\n",
    "text = file.read()\n",
    "len(text)"
   ]
  },
  {
   "cell_type": "code",
   "execution_count": 1,
   "metadata": {},
   "outputs": [
    {
     "name": "stdout",
     "output_type": "stream",
     "text": [
      "Writing bookofd.txt\n"
     ]
    }
   ],
   "source": [
    "%%writefile bookofd.txt\n",
    "Game of thrones1\n",
    "game of thrones2\n",
    "game of thrones3"
   ]
  }
 ],
 "metadata": {
  "kernelspec": {
   "display_name": "Python 3.8.10 ('venv': venv)",
   "language": "python",
   "name": "python3"
  },
  "language_info": {
   "codemirror_mode": {
    "name": "ipython",
    "version": 3
   },
   "file_extension": ".py",
   "mimetype": "text/x-python",
   "name": "python",
   "nbconvert_exporter": "python",
   "pygments_lexer": "ipython3",
   "version": "3.8.10"
  },
  "orig_nbformat": 4,
  "vscode": {
   "interpreter": {
    "hash": "5f2b5ba52125b1147083bfd8727d4726eaa6cbf67ceb3dea163c757fb187d223"
   }
  }
 },
 "nbformat": 4,
 "nbformat_minor": 2
}
